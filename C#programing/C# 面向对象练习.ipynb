{
 "cells": [
  {
   "cell_type": "markdown",
   "metadata": {},
   "source": [
    "### C#面向对象编程-练习题\n",
    "\n",
    "#### 1. C#中的方法重写关键字（override），重写后父类中的方法就不存在了\n",
    "\n",
    "#### [补充知识]：(1) 方法重写和重载的区别：重写(override)是子类对父类可以访问的方法的实现过程进行重新编写,好处在于子类可以更加灵活的设计；重载(overloading)是一个类中定义多个方法名相同而参数数量不同或参数数量相同但参数类型和次序不同。"
   ]
  },
  {
   "cell_type": "code",
   "execution_count": null,
   "metadata": {},
   "outputs": [],
   "source": [
    "using System;\n",
    "using System.Collections.Generic;\n",
    "using System.Linq;\n",
    "using System.Text;\n",
    "using System.Threading.Tasks;\n",
    "\n",
    "namespace _190917_object_oriented\n",
    "{\n",
    "    /* 代码实现：子类重写父类的可访问方法,和C++一样需要被重写的方法应该写为虚函数\n",
    "     重写（override）：同一接口用不同的方法实现。*/\n",
    "    class Animal\n",
    "    {\n",
    "        public virtual void move()\n",
    "        {\n",
    "            Console.WriteLine(\"动物可以跑\");\n",
    "        }\n",
    "    }\n",
    "    class Dog:Animal\n",
    "    {\n",
    "        public override void move()\n",
    "        {\n",
    "            Console.WriteLine(\"狗可以跑\");\n",
    "        }\n",
    "    }\n",
    "\n",
    "    class TestDog\n",
    "    {\n",
    "        static void Main(string[] args)\n",
    "        {\n",
    "            Animal animal = new Animal();\n",
    "            Dog dog = new Dog();\n",
    "            animal.move();\n",
    "            dog.move();\n",
    "            Console.ReadLine();\n",
    "        }\n",
    "    }\n",
    "}"
   ]
  },
  {
   "cell_type": "markdown",
   "metadata": {},
   "source": [
    "#### 2.C#代码定义一个接口时，需要注意的是:\n",
    "#### (1) 接口中不能包含字段即不能定义变量；(2) 接口中的方法不能实现即不能有函数块{}"
   ]
  },
  {
   "cell_type": "markdown",
   "metadata": {},
   "source": [
    "#### 3.C#中接口与抽象基类的区别在于\n",
    "#### 抽象基类可以包含非抽象方法和抽象方法，接口只能包含非抽象方法\n",
    "#### [名词解释] (1)抽象基类即父类;(2)抽象类，抽象方法和非抽象方法：抽象类是一种不完整的模板，不能用其构造实例，用abstract进行声明，在子类中必须对其进行重写，用子类去构造。抽象类中必然包含一个抽象方法也用abstract声明。(3)接口：接口定义了属性、方法和事件，这些都是接口的成员。接口只包含了成员的声明。成员的定义是派生类的责任。接口提供了派生类应遵循的标准结构。"
   ]
  },
  {
   "cell_type": "code",
   "execution_count": null,
   "metadata": {},
   "outputs": [],
   "source": [
    "using System;\n",
    "using System.Collections.Generic;\n",
    "using System.Linq;\n",
    "using System.Text;\n",
    "using System.Threading.Tasks;\n",
    "\n",
    "namespace _190917_object_oriented\n",
    "{\n",
    "    abstract class Bird//抽象类不能去构造对象，抽象方法也不能在抽象类中实现\n",
    "    {\n",
    "        public void Eat() { }\n",
    "        public abstract void Fly();\n",
    "    }\n",
    "}"
   ]
  },
  {
   "cell_type": "code",
   "execution_count": null,
   "metadata": {},
   "outputs": [],
   "source": [
    "namespace _190917_object_oriented\n",
    "{\n",
    "    class Crow:Bird//继承了一个抽象类，必须实现抽象方法\n",
    "    {\n",
    "        public override void Fly()\n",
    "        {\n",
    "            Console.WriteLine(\"乌鸦正在飞\");\n",
    "        }\n",
    "    }\n",
    "}"
   ]
  },
  {
   "cell_type": "code",
   "execution_count": null,
   "metadata": {},
   "outputs": [],
   "source": [
    "class Test\n",
    "{\n",
    "    static void Main(string[] args)\n",
    "    {\n",
    "        Bird bird = new Crow();//不能new Bird(),因为抽象类不完整\n",
    "        bird.Fly();\n",
    "        Console.ReadLine();\n",
    "    }\n",
    "}"
   ]
  },
  {
   "cell_type": "markdown",
   "metadata": {},
   "source": [
    "### 注意虚方法和抽象方法的不同\n",
    "#### virtual虚函数基类可以实现方法，abstract抽象类基类不能实现方法，抽象方法必须在子类中实现"
   ]
  },
  {
   "cell_type": "markdown",
   "metadata": {},
   "source": [
    "#### 类去实现接口，接口与抽象类相似，所有接口只有签名不能实现。接口不能有构造函数，即不能实例化，字段，不允许操作符重载，不允许声明成员的修饰符，接口都是公有的。"
   ]
  },
  {
   "cell_type": "code",
   "execution_count": null,
   "metadata": {},
   "outputs": [],
   "source": [
    "namespace _012_定义和实现接口\n",
    "{\n",
    "    interface IFly\n",
    "    {\n",
    "        void Fly();\n",
    "        void MethodA();\n",
    "    }\n",
    "}\n",
    "\n",
    "namespace _012_定义和实现接口\n",
    "{\n",
    "    interface IA\n",
    "    {\n",
    "        void Method1();\n",
    "    }\n",
    "}\n",
    "\n",
    "namespace _012_定义和实现接口\n",
    "{\n",
    "    interface IB:IA\n",
    "    {\n",
    "        void Method2();\n",
    "    }\n",
    "}\n",
    "\n",
    "namespace _012_定义和实现接口\n",
    "{\n",
    "    class Bird : IFly,IB\n",
    "    {\n",
    "        public void Fly()\n",
    "        {\n",
    "            Console.WriteLine(\"小鸟在飞\");  \n",
    "        }\n",
    "\n",
    "        public void MethodA()\n",
    "        {\n",
    "            Console.WriteLine(\"小鸟在A\");\n",
    "        }\n",
    "\n",
    "        public void Method2()\n",
    "        {\n",
    "            \n",
    "        }\n",
    "\n",
    "        public void Method1()\n",
    "        {\n",
    "            \n",
    "        }\n",
    "    }\n",
    "}"
   ]
  },
  {
   "cell_type": "markdown",
   "metadata": {},
   "source": [
    "#### 通过父类声明的对象，调用隐藏方法(new keywords)，会调用父类中的方法"
   ]
  },
  {
   "cell_type": "code",
   "execution_count": null,
   "metadata": {},
   "outputs": [],
   "source": [
    "namespace test\n",
    "{\n",
    "     abstract class A//A是抽象类，所以不能用 new A()构造实例\n",
    "    {\n",
    "        public A()\n",
    "        {\n",
    "            Console.WriteLine(\"A\");\n",
    "        }\n",
    "        public virtual void Fun()\n",
    "        {\n",
    "            Console.WriteLine(\"A.Fun()\");\n",
    "        }\n",
    "        public abstract void Fun1();\n",
    "    }\n",
    "     class B : A\n",
    "    {\n",
    "        public B()\n",
    "        {\n",
    "            Console.WriteLine(\"B\");\n",
    "        }\n",
    "        public new void Fun()\n",
    "        {\n",
    "            Console.WriteLine(\"B.Fun()\");\n",
    "        }\n",
    "        public override void Fun1()\n",
    "        {\n",
    "            Console.WriteLine(\"实现Fun1()\");\n",
    "        }\n",
    "    }\n",
    "    class Program\n",
    "    {\n",
    "        static void Main(string[] args)\n",
    "        {\n",
    "            A a = new B();//一旦存在继承关系，只要构造子类，构造时先构造父类再构造子类\n",
    "            a.Fun();\n",
    "            B b = new B();\n",
    "            b.Fun1();\n",
    "            Console.ReadKey();\n",
    "        }\n",
    "    }\n",
    "}"
   ]
  },
  {
   "cell_type": "markdown",
   "metadata": {},
   "source": [
    "### C#中不允许多重继承，允许多接口实现。C#中结构体为值类型，传递的是数据"
   ]
  },
  {
   "cell_type": "code",
   "execution_count": null,
   "metadata": {},
   "outputs": [],
   "source": []
  }
 ],
 "metadata": {
  "kernelspec": {
   "display_name": "Python 3",
   "language": "python",
   "name": "python3"
  },
  "language_info": {
   "codemirror_mode": {
    "name": "ipython",
    "version": 3
   },
   "file_extension": ".py",
   "mimetype": "text/x-python",
   "name": "python",
   "nbconvert_exporter": "python",
   "pygments_lexer": "ipython3",
   "version": "3.7.3"
  }
 },
 "nbformat": 4,
 "nbformat_minor": 2
}
